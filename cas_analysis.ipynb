{
 "cells": [
  {
   "cell_type": "code",
   "execution_count": null,
   "metadata": {},
   "outputs": [],
   "source": [
    "# This file is used by web_gen.py to create a report for every FF chemical.  To make this work nicely,\n",
    "# you should use the 'hide-input-all' nbextension and before running web_gen, enable hide all, save the sheet, \n",
    "#  and CLose and Halt.  "
   ]
  },
  {
   "cell_type": "code",
   "execution_count": 1,
   "metadata": {},
   "outputs": [],
   "source": [
    "#preamble to analysis\n",
    "import pandas as pd\n",
    "import numpy as np\n",
    "import matplotlib.pyplot as plt\n",
    "%matplotlib inline\n",
    "import seaborn as sns\n",
    "import matplotlib.ticker\n",
    "from IPython.display import Markdown as md\n",
    "from time import sleep"
   ]
  },
  {
   "cell_type": "code",
   "execution_count": 3,
   "metadata": {},
   "outputs": [
    {
     "data": {
      "text/markdown": [
       "# Summary report for 9004-32-4:  cellulose, carboxymethyl ether, sodium salt"
      ],
      "text/plain": [
       "<IPython.core.display.Markdown object>"
      ]
     },
     "execution_count": 3,
     "metadata": {},
     "output_type": "execute_result"
    }
   ],
   "source": [
    "df = pd.read_pickle('data.pkl')\n",
    "\n",
    "cas = df.iloc[0].bgCAS\n",
    "igname = df.iloc[0].bgIngredientName\n",
    "ehname = df.iloc[0].eh_IngredientName\n",
    "\n",
    "df.date = pd.to_datetime(df.date)\n",
    "df['year'] = df.date.dt.year\n",
    "df = df[df.year>2010]  # FF includes some old data but before 2011 are very sparse\n",
    "tries = 0\n",
    "md(f'# Summary report for {cas}:  {igname}')"
   ]
  },
  {
   "cell_type": "code",
   "execution_count": null,
   "metadata": {},
   "outputs": [],
   "source": [
    "md(f'##  -- Elsner/Hoelzer name: {ehname}')"
   ]
  },
  {
   "cell_type": "code",
   "execution_count": null,
   "metadata": {},
   "outputs": [],
   "source": [
    "md('**Raw FracFocus CASNumbers used:**')"
   ]
  },
  {
   "cell_type": "code",
   "execution_count": null,
   "metadata": {},
   "outputs": [],
   "source": [
    "print(df.groupby('CASNumber')['bgCAS'].count())"
   ]
  },
  {
   "cell_type": "code",
   "execution_count": null,
   "metadata": {},
   "outputs": [],
   "source": [
    "md('**Raw FracFocus IngredientNames used:**')"
   ]
  },
  {
   "cell_type": "code",
   "execution_count": null,
   "metadata": {},
   "outputs": [],
   "source": [
    "print(df.groupby('IngredientName')['bgCAS'].count())"
   ]
  },
  {
   "cell_type": "code",
   "execution_count": null,
   "metadata": {},
   "outputs": [],
   "source": [
    "md('---')"
   ]
  },
  {
   "cell_type": "code",
   "execution_count": null,
   "metadata": {},
   "outputs": [],
   "source": [
    "# for nicer displays of numbers: round to significant figures.\n",
    "from math import log10, floor\n",
    "def round_sig(x, sig=2):\n",
    "    try:\n",
    "        if abs(x)>=1:\n",
    "            out =  int(round(x, sig-int(floor(log10(abs(x))))-1))\n",
    "            return f\"{out:,d}\" # does the right thing with commas\n",
    "        else: # fractional numbers\n",
    "            return str(round(x, sig-int(floor(log10(abs(x))))-1))\n",
    "    except:\n",
    "        return x\n"
   ]
  },
  {
   "cell_type": "markdown",
   "metadata": {},
   "source": [
    "# Uses by Percent of the Fracking Job\n",
    "This measure roughly shows a comparison of the concentration of the chemical in the whole fracking job (including the base fluid which is typically over 80%).  Only the disclosures where the sum of PercentHFJob is within 5% of 100% are plotted."
   ]
  },
  {
   "cell_type": "code",
   "execution_count": null,
   "metadata": {},
   "outputs": [],
   "source": [
    "ax = df[df.record_flags.str.contains('%')].plot('date','PercentHFJob', style='o', alpha=.3,\n",
    "            figsize=(10,6))\n",
    "plt.ylabel('Percent of Job',fontsize=16);\n",
    "plt.title(f'Percent of job that is {cas} - linear version',fontsize=16);\n",
    "ax.grid()\n",
    "ax.tick_params(axis=\"y\", labelsize=14)\n",
    "ax.tick_params(axis=\"x\", labelsize=14)\n"
   ]
  },
  {
   "cell_type": "code",
   "execution_count": null,
   "metadata": {},
   "outputs": [],
   "source": [
    "ax = df[df.record_flags.str.contains('%')].plot('date','PercentHFJob', style='o', alpha=.3,\n",
    "            figsize=(10,6))\n",
    "plt.ylabel('Percent of Job',fontsize=16);\n",
    "plt.title(f'Percent of Job that is {cas} - log version',fontsize=16);\n",
    "ax.set(yscale='log')\n",
    "ax.tick_params(axis=\"y\", labelsize=14)\n",
    "ax.tick_params(axis=\"x\", labelsize=14)\n",
    "#locmaj = matplotlib.ticker.LogLocator(base=10,numticks=7,subs='all') \n",
    "locmaj = matplotlib.ticker.LogLocator(base=10,subs='all') \n",
    "ax.yaxis.set_major_locator(locmaj)\n",
    "ax.set(ylim=(max(0.000001,df[df.record_flags.str.contains('%')].PercentHFJob.min()),\n",
    "             df[df.record_flags.str.contains('%')].PercentHFJob.max()*1.1));\n",
    "ax.grid()"
   ]
  },
  {
   "cell_type": "markdown",
   "metadata": {},
   "source": [
    "# Uses by mass\n",
    "This measure shows a comparison of the absolute quantity of a chemical used in a fracking job."
   ]
  },
  {
   "cell_type": "code",
   "execution_count": null,
   "metadata": {},
   "outputs": [],
   "source": [
    "ax = df.plot('date','bgMass', style='o', alpha=.3,\n",
    "            figsize=(10,6))\n",
    "plt.ylabel('Mass in pounds',fontsize=16);\n",
    "plt.title(f'Mass of {cas} - linear version',fontsize=16);\n",
    "ax.grid()\n",
    "ax.tick_params(axis=\"y\", labelsize=14)\n",
    "ax.tick_params(axis=\"x\", labelsize=14)\n"
   ]
  },
  {
   "cell_type": "code",
   "execution_count": null,
   "metadata": {},
   "outputs": [],
   "source": [
    "ax = df.plot('date','bgMass', style='o', alpha=.3,\n",
    "            figsize=(10,6))\n",
    "plt.ylabel('Mass in pounds',fontsize=16);\n",
    "plt.title(f'Mass of {cas} - log version',fontsize=16);\n",
    "ax.set(yscale='log')\n",
    "ax.tick_params(axis=\"y\", labelsize=14)\n",
    "ax.tick_params(axis=\"x\", labelsize=14)\n",
    "#locmaj = matplotlib.ticker.LogLocator(base=10,numticks=7,subs='all') \n",
    "locmaj = matplotlib.ticker.LogLocator(base=10,subs='all') \n",
    "ax.yaxis.set_major_locator(locmaj)\n",
    "ax.set(ylim=(max(0.1,df.bgMass.min()),df.bgMass.max()*1.1));\n",
    "ax.grid()"
   ]
  },
  {
   "cell_type": "markdown",
   "metadata": {},
   "source": [
    "# Which operators are the most frequent users?"
   ]
  },
  {
   "cell_type": "code",
   "execution_count": null,
   "metadata": {},
   "outputs": [],
   "source": [
    "ax = df.groupby('bgOperatorName')['UploadKey'].count()\\\n",
    "     .sort_values(ascending=False)[:20].plot.barh(figsize=(8,8));\n",
    "ax.tick_params(axis=\"y\", labelsize=14)\n",
    "ax.tick_params(axis=\"x\", labelsize=14)\n",
    "plt.title(f'Number of chemical records using {cas} by operator',fontsize=16);"
   ]
  },
  {
   "cell_type": "markdown",
   "metadata": {},
   "source": [
    "# Who are the most frequent Suppliers?"
   ]
  },
  {
   "cell_type": "code",
   "execution_count": null,
   "metadata": {},
   "outputs": [],
   "source": [
    "ax = df.groupby('bgSupplier')['UploadKey'].count()\\\n",
    "     .sort_values(ascending=False)[:20].plot.barh(figsize=(8,8));\n",
    "ax.tick_params(axis=\"y\", labelsize=14)\n",
    "ax.tick_params(axis=\"x\", labelsize=14)\n",
    "plt.title(f'Number of chemical records using {cas} by Supplier',fontsize=16);\n"
   ]
  },
  {
   "cell_type": "markdown",
   "metadata": {},
   "source": [
    "# Which operators use the most?"
   ]
  },
  {
   "cell_type": "code",
   "execution_count": null,
   "metadata": {},
   "outputs": [],
   "source": [
    "ax =df.groupby('bgOperatorName')['bgMass'].sum()\\\n",
    "     .sort_values(ascending=False)[:20].plot.barh(figsize=(8,8));\n",
    "ax.tick_params(axis=\"y\", labelsize=14)\n",
    "ax.tick_params(axis=\"x\", labelsize=14,rotation=75)\n",
    "plt.title(f'Total mass of {cas} used (in pounds) by operator',fontsize=16);"
   ]
  },
  {
   "cell_type": "markdown",
   "metadata": {},
   "source": [
    "# Some of the patterns of use"
   ]
  },
  {
   "cell_type": "code",
   "execution_count": null,
   "metadata": {},
   "outputs": [],
   "source": [
    "sns.set(style=\"whitegrid\")\n",
    "ops =df.groupby('bgOperatorName',as_index=False)['bgMass'].sum().sort_values(by='bgMass',\n",
    "                                                                             ascending=False)[:6].bgOperatorName.tolist()\n",
    "#print(ops)\n",
    "t = df[df.bgOperatorName.isin(ops)]\n",
    "#print(len(t))\n",
    "t = t[t.record_flags.str.contains('M')]\n",
    "fig = plt.figure(figsize=(10,6))\n",
    "ax = sns.stripplot(t.bgMass,t.bgOperatorName,jitter=.2,alpha=.7)\n",
    "plt.xlabel(f'mass in pounds: {cas}',fontsize=14);\n",
    "plt.title(f'Variability in use of {cas} across six operators',fontsize=16)\n",
    "ax.set(xscale='log')\n",
    "ax.set(xlim=(max(0.1,t.bgMass.min()),t.bgMass.max()*1.1))\n",
    "ax.tick_params(axis=\"x\", labelsize=14)\n",
    "ax.tick_params(axis=\"y\", labelsize=14)\n",
    "locmaj = matplotlib.ticker.LogLocator(base=10,subs='all') \n",
    "ax.xaxis.set_major_locator(locmaj)"
   ]
  },
  {
   "cell_type": "markdown",
   "metadata": {},
   "source": [
    "# What are the big uses?"
   ]
  },
  {
   "cell_type": "code",
   "execution_count": null,
   "metadata": {},
   "outputs": [],
   "source": [
    "perc90_mass = np.percentile(df[df.bgMass>0].bgMass,90)\n",
    "perc90_str = str(round_sig(perc90_mass,1))\n",
    "md(f'## --- Upper 10% of records are over {perc90_str} pounds')"
   ]
  },
  {
   "cell_type": "markdown",
   "metadata": {},
   "source": [
    "# Are the big uses changing over time?"
   ]
  },
  {
   "cell_type": "code",
   "execution_count": null,
   "metadata": {},
   "outputs": [],
   "source": [
    "ax = df[df.bgMass>perc90_mass].plot('date','bgMass',title=f'Events with >{perc90_str} lbs. {cas}',\n",
    "                                    style='o',alpha=.5,\n",
    "                                    figsize=(10,6))\n",
    "ax.set(yscale='log')\n",
    "ax.tick_params(axis=\"y\", labelsize=14)\n",
    "ax.tick_params(axis=\"x\", labelsize=14)\n",
    "#locmaj = matplotlib.ticker.LogLocator(base=10,numticks=7,subs='all') \n",
    "locmaj = matplotlib.ticker.LogLocator(base=10,subs='all') \n",
    "ax.yaxis.set_major_locator(locmaj)\n",
    "#ax.set(ylim=(10000,1000000));\n",
    "plt.ylabel(f'mass of {cas} (lbs.)');"
   ]
  },
  {
   "cell_type": "markdown",
   "metadata": {},
   "source": [
    "#  Where are those big uses?"
   ]
  },
  {
   "cell_type": "code",
   "execution_count": null,
   "metadata": {},
   "outputs": [],
   "source": [
    "t = df[df.bgMass>perc90_mass].copy()\n",
    "bg = t.groupby(['year','bgStateName'],as_index=False)['bgMass'].count()\n",
    "piv = pd.pivot(bg,index='year',columns='bgStateName',values='bgMass')\n",
    "piv.reset_index(inplace=True)\n",
    "fig = plt.figure();\n",
    "ax=piv.plot.bar(x='year',stacked=True);\n",
    "ax.tick_params(axis=\"y\", labelsize=14);\n",
    "ax.tick_params(axis=\"x\", labelsize=14);\n",
    "plt.legend(loc='center left', bbox_to_anchor=(1, 0.5));\n",
    "plt.title(f'Number of large uses of {cas} (>{round_sig(perc90_mass)} lbs.) by state',fontsize=16);"
   ]
  }
 ],
 "metadata": {
  "hide_input": true,
  "kernelspec": {
   "display_name": "Python 3",
   "language": "python",
   "name": "python3"
  },
  "language_info": {
   "codemirror_mode": {
    "name": "ipython",
    "version": 3
   },
   "file_extension": ".py",
   "mimetype": "text/x-python",
   "name": "python",
   "nbconvert_exporter": "python",
   "pygments_lexer": "ipython3",
   "version": "3.8.2"
  }
 },
 "nbformat": 4,
 "nbformat_minor": 2
}
